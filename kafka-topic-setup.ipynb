{
 "cells": [
  {
   "cell_type": "markdown",
   "id": "5d466fd2",
   "metadata": {},
   "source": [
    "#### Import the KafkaAdminClient to perform adminstrative duties on the cluster such as creating & deleting topics"
   ]
  },
  {
   "cell_type": "code",
   "execution_count": 1,
   "id": "ded2957c",
   "metadata": {},
   "outputs": [],
   "source": [
    "from kafka.admin import KafkaAdminClient, NewTopic"
   ]
  },
  {
   "cell_type": "markdown",
   "id": "6ce4fea8",
   "metadata": {},
   "source": [
    "#### Instantiate client object and specify Kafka server details. "
   ]
  },
  {
   "cell_type": "code",
   "execution_count": 2,
   "id": "8a3bdeb9",
   "metadata": {},
   "outputs": [],
   "source": [
    "admin_client = KafkaAdminClient(bootstrap_servers=\"localhost:9092\",client_id=\"admin_client\")"
   ]
  },
  {
   "cell_type": "code",
   "execution_count": 3,
   "id": "7ea03318",
   "metadata": {},
   "outputs": [],
   "source": [
    "topic_list = []"
   ]
  },
  {
   "cell_type": "code",
   "execution_count": 4,
   "id": "88f6442e",
   "metadata": {},
   "outputs": [],
   "source": [
    "topic_list.append(NewTopic(name=\"movie_details\",num_partitions=1,replication_factor=1))"
   ]
  },
  {
   "cell_type": "code",
   "execution_count": 5,
   "id": "3d5d04b4",
   "metadata": {},
   "outputs": [],
   "source": [
    "topic_list.append(NewTopic(name=\"movie_ratings\",num_partitions=1,replication_factor=1))"
   ]
  },
  {
   "cell_type": "code",
   "execution_count": 6,
   "id": "190de56e",
   "metadata": {},
   "outputs": [
    {
     "data": {
      "text/plain": [
       "CreateTopicsResponse_v3(throttle_time_ms=0, topic_errors=[(topic='movie_details', error_code=0, error_message=None), (topic='movie_ratings', error_code=0, error_message=None)])"
      ]
     },
     "execution_count": 6,
     "metadata": {},
     "output_type": "execute_result"
    }
   ],
   "source": [
    "admin_client.create_topics(new_topics=topic_list, validate_only=False)"
   ]
  },
  {
   "cell_type": "code",
   "execution_count": 7,
   "id": "e74d02b2",
   "metadata": {},
   "outputs": [
    {
     "data": {
      "text/plain": [
       "['movie_ratings', 'movie_details']"
      ]
     },
     "execution_count": 7,
     "metadata": {},
     "output_type": "execute_result"
    }
   ],
   "source": [
    "admin_client.list_topics()"
   ]
  },
  {
   "cell_type": "code",
   "execution_count": 8,
   "id": "c5915fe7",
   "metadata": {},
   "outputs": [
    {
     "data": {
      "text/plain": [
       "[{'error_code': 0,\n",
       "  'topic': 'movie_ratings',\n",
       "  'is_internal': False,\n",
       "  'partitions': [{'error_code': 0,\n",
       "    'partition': 0,\n",
       "    'leader': 0,\n",
       "    'replicas': [0],\n",
       "    'isr': [0],\n",
       "    'offline_replicas': []}]},\n",
       " {'error_code': 0,\n",
       "  'topic': 'movie_details',\n",
       "  'is_internal': False,\n",
       "  'partitions': [{'error_code': 0,\n",
       "    'partition': 0,\n",
       "    'leader': 0,\n",
       "    'replicas': [0],\n",
       "    'isr': [0],\n",
       "    'offline_replicas': []}]}]"
      ]
     },
     "execution_count": 8,
     "metadata": {},
     "output_type": "execute_result"
    }
   ],
   "source": [
    "admin_client.describe_topics()"
   ]
  },
  {
   "cell_type": "code",
   "execution_count": null,
   "id": "feacb6ba",
   "metadata": {},
   "outputs": [],
   "source": []
  }
 ],
 "metadata": {
  "kernelspec": {
   "display_name": "Python 3 (ipykernel)",
   "language": "python",
   "name": "python3"
  },
  "language_info": {
   "codemirror_mode": {
    "name": "ipython",
    "version": 3
   },
   "file_extension": ".py",
   "mimetype": "text/x-python",
   "name": "python",
   "nbconvert_exporter": "python",
   "pygments_lexer": "ipython3",
   "version": "3.10.6"
  }
 },
 "nbformat": 4,
 "nbformat_minor": 5
}
